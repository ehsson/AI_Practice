{
  "nbformat": 4,
  "nbformat_minor": 0,
  "metadata": {
    "colab": {
      "provenance": [],
      "gpuType": "T4"
    },
    "kernelspec": {
      "name": "python3",
      "display_name": "Python 3"
    },
    "language_info": {
      "name": "python"
    },
    "accelerator": "GPU"
  },
  "cells": [
    {
      "cell_type": "code",
      "execution_count": 1,
      "metadata": {
        "id": "MhgP6YaE_wa0"
      },
      "outputs": [],
      "source": [
        "import numpy as np\n",
        "import pandas as pd\n",
        "import os\n",
        "import sys\n",
        "import matplotlib.pyplot as plt\n",
        "import torch\n",
        "from torchvision import transforms\n",
        "from torchvision.datasets import ImageFolder\n",
        "import torchvision.models as models\n",
        "from torch import nn\n",
        "from torch import optim\n",
        "from torch.utils.data import Dataset, DataLoader, random_split\n",
        "from sklearn.model_selection import train_test_split\n",
        "import cv2"
      ]
    },
    {
      "cell_type": "code",
      "source": [
        "data_dir = 'drive/MyDrive/kaggle_mnist/digit-recognizer/'\n",
        "\n",
        "for dirname, _, filenames in os.walk('drive/MyDrive/kaggle_mnist/digit-recognizer'):\n",
        "    for filename in filenames:\n",
        "        print(os.path.join(dirname, filename))\n",
        "\n",
        "# You can write up to 20GB to the current directory (/kaggle/working/) that gets preserved as output when you create a version using \"Save & Run All\"\n",
        "# You can also write temporary files to /kaggle/temp/, but they won't be saved outside of the current session"
      ],
      "metadata": {
        "colab": {
          "base_uri": "https://localhost:8080/"
        },
        "id": "wm4nL9zQEdLA",
        "outputId": "9bf4aee6-5187-4698-c119-127f5f296e64"
      },
      "execution_count": 2,
      "outputs": [
        {
          "output_type": "stream",
          "name": "stdout",
          "text": [
            "drive/MyDrive/kaggle_mnist/digit-recognizer/test.csv\n",
            "drive/MyDrive/kaggle_mnist/digit-recognizer/sample_submission.csv\n",
            "drive/MyDrive/kaggle_mnist/digit-recognizer/train.csv\n"
          ]
        }
      ]
    },
    {
      "cell_type": "code",
      "source": [
        "train_data = pd.read_csv(data_dir + 'train.csv')\n",
        "test_data = pd.read_csv(data_dir + 'test.csv')"
      ],
      "metadata": {
        "id": "AD1mqXHRO3Da"
      },
      "execution_count": 3,
      "outputs": []
    },
    {
      "cell_type": "code",
      "source": [
        "train_images = train_data.drop('label', axis=1).values.reshape(-1, 1, 28, 28)\n",
        "test_images = test_data.values.reshape(-1, 1, 28, 28)\n",
        "train_labels = train_data['label'].values\n",
        "\n",
        "# nomalization\n",
        "train_images = (train_images / 255.0).astype(np.float32)\n",
        "test_images = (test_images / 255.0).astype(np.float32)\n",
        "\n",
        "print(train_images.shape)\n",
        "print(test_images.shape)"
      ],
      "metadata": {
        "colab": {
          "base_uri": "https://localhost:8080/"
        },
        "id": "PK5SsfdjTl9d",
        "outputId": "2b5156e1-9332-497e-987c-fd3d5053c0e8"
      },
      "execution_count": 4,
      "outputs": [
        {
          "output_type": "stream",
          "name": "stdout",
          "text": [
            "(42000, 1, 28, 28)\n",
            "(28000, 1, 28, 28)\n"
          ]
        }
      ]
    },
    {
      "cell_type": "code",
      "source": [
        "train_images, valid_images, train_labels, valid_labels = train_test_split(train_images, train_labels, test_size=0.1, random_state=42, stratify=train_labels)\n",
        "\n",
        "train_tensor = torch.utils.data.TensorDataset(torch.tensor(train_images), torch.tensor(train_labels))\n",
        "valid_tensor = torch.utils.data.TensorDataset(torch.tensor(valid_images), torch.tensor(valid_labels))\n",
        "test_tensor = torch.utils.data.TensorDataset(torch.tensor(test_images))\n",
        "\n",
        "train_loader = DataLoader(train_tensor, batch_size=64, shuffle=True)\n",
        "valid_loader = DataLoader(valid_tensor, batch_size=64, shuffle=False)\n",
        "test_loader = DataLoader(test_tensor, batch_size=100, shuffle=False)"
      ],
      "metadata": {
        "id": "H2JRXNJuPUCU"
      },
      "execution_count": 5,
      "outputs": []
    },
    {
      "cell_type": "code",
      "source": [
        "class Network(nn.Module):\n",
        "    def __init__(self):\n",
        "        super().__init__()\n",
        "        self.layer1 = nn.Sequential(\n",
        "            nn.Conv2d(in_channels=1, out_channels=32, kernel_size=3, stride=1, padding=1),  # (batch, 1, 28, 28)  ->  (batch, 32, 28, 28)\n",
        "            nn.ReLU(),\n",
        "            nn.MaxPool2d(kernel_size=2, stride=2),                                          # (batch, 32, 28, 28)  ->  (batch, 32, 14, 14)\n",
        "        )\n",
        "        self.layer2 = nn.Sequential(\n",
        "            nn.Conv2d(in_channels=32, out_channels=64, kernel_size=3, stride=1, padding=1), # (batch, 32, 14, 14)  ->  (batch, 64, 14, 14)\n",
        "            nn.ReLU(),\n",
        "            nn.MaxPool2d(kernel_size=2, stride=2),                                          # (batch, 64, 14, 14)  ->  (batch, 64, 7, 7)\n",
        "            nn.Flatten()\n",
        "        )\n",
        "        self.layer3 = nn.Sequential(\n",
        "            nn.Linear(in_features=7*7*64, out_features=64),\n",
        "            nn.Linear(in_features=64, out_features=10),\n",
        "            nn.Softmax(dim=1)\n",
        "        )\n",
        "\n",
        "    def forward(self, x):\n",
        "        x = self.layer1(x)\n",
        "        x = self.layer2(x)\n",
        "        x = self.layer3(x)\n",
        "        return x"
      ],
      "metadata": {
        "id": "yCYQDo4nVjyY"
      },
      "execution_count": 6,
      "outputs": []
    },
    {
      "cell_type": "code",
      "source": [
        "# model = Network()\n",
        "model = models.resnet18(pretrained=True)"
      ],
      "metadata": {
        "colab": {
          "base_uri": "https://localhost:8080/"
        },
        "id": "eLZQ38iWIIM8",
        "outputId": "461e6e2b-ac11-4b0e-a30a-12a20afaebc2"
      },
      "execution_count": 7,
      "outputs": [
        {
          "output_type": "stream",
          "name": "stderr",
          "text": [
            "/usr/local/lib/python3.10/dist-packages/torchvision/models/_utils.py:208: UserWarning: The parameter 'pretrained' is deprecated since 0.13 and may be removed in the future, please use 'weights' instead.\n",
            "  warnings.warn(\n",
            "/usr/local/lib/python3.10/dist-packages/torchvision/models/_utils.py:223: UserWarning: Arguments other than a weight enum or `None` for 'weights' are deprecated since 0.13 and may be removed in the future. The current behavior is equivalent to passing `weights=ResNet18_Weights.IMAGENET1K_V1`. You can also use `weights=ResNet18_Weights.DEFAULT` to get the most up-to-date weights.\n",
            "  warnings.warn(msg)\n",
            "Downloading: \"https://download.pytorch.org/models/resnet18-f37072fd.pth\" to /root/.cache/torch/hub/checkpoints/resnet18-f37072fd.pth\n",
            "100%|██████████| 44.7M/44.7M [00:00<00:00, 173MB/s]\n"
          ]
        }
      ]
    },
    {
      "cell_type": "code",
      "source": [
        "model.conv1 = nn.Conv2d(1, 64, kernel_size=(7, 7), stride=(2, 2), padding=(3, 3), bias=False)\n",
        "features = model.fc.in_features\n",
        "model.fc = nn.Linear(features, 10, bias=True)"
      ],
      "metadata": {
        "id": "A0aa_tLLIOV2"
      },
      "execution_count": 8,
      "outputs": []
    },
    {
      "cell_type": "code",
      "source": [
        "device = torch.device('cuda:0' if torch.cuda.is_available() else 'cpu')\n",
        "model.to(device)\n",
        "print(device)"
      ],
      "metadata": {
        "colab": {
          "base_uri": "https://localhost:8080/"
        },
        "id": "JLzue7E_YZtJ",
        "outputId": "786dcf80-65e2-4abe-b1d0-945ec2c68892"
      },
      "execution_count": 9,
      "outputs": [
        {
          "output_type": "stream",
          "name": "stdout",
          "text": [
            "cuda:0\n"
          ]
        }
      ]
    },
    {
      "cell_type": "code",
      "source": [
        "def softmax(x):\n",
        "    return np.exp(x)/np.sum(np.exp(x), axis=1)[:, None]"
      ],
      "metadata": {
        "id": "LRU3IbMnAoNX"
      },
      "execution_count": 10,
      "outputs": []
    },
    {
      "cell_type": "code",
      "source": [
        "test_pred = []\n",
        "\n",
        "with torch.no_grad():\n",
        "    for step in range(len(test_loader)):\n",
        "        images = next(iter(test_loader))\n",
        "        images[0] = images[0].to(device)\n",
        "\n",
        "        predictions = model(images[0])\n",
        "\n",
        "        test_pred.append(softmax(predictions.detach().cpu().numpy()))"
      ],
      "metadata": {
        "id": "Nd06tfbQAk2z"
      },
      "execution_count": 16,
      "outputs": []
    },
    {
      "cell_type": "code",
      "source": [
        "test_batch = next(iter(test_loader))[0]\n",
        "test_X = test_batch.reshape(-1, 28, 28)[:36]\n",
        "fig, ax = plt.subplots(nrows=6, ncols=6, figsize=(15, 15))\n",
        "\n",
        "for i, image in enumerate(test_X):\n",
        "    ax[i//6][i%6].axis('off'); ax[i//6][i%6].imshow(image, cmap='gray')\n",
        "    ax[i//6][i%6].set_title(np.argmax(test_pred[0][i], axis=0), fontsize=20, color=\"red\")"
      ],
      "metadata": {
        "colab": {
          "base_uri": "https://localhost:8080/",
          "height": 1000
        },
        "id": "hL6i5rgh5WFB",
        "outputId": "2ffc8d24-558f-4045-fafe-05177a077ca2"
      },
      "execution_count": 17,
      "outputs": [
        {
          "output_type": "display_data",
          "data": {
            "text/plain": [
              "<Figure size 1500x1500 with 36 Axes>"
            ],
            "image/png": "[encoded data removed]"
          },
          "metadata": {}
        }
      ]
    },
    {
      "cell_type": "code",
      "source": [
        "# loss function\n",
        "criterion = nn.CrossEntropyLoss()\n",
        "optimizer = optim.Adam(model.parameters(), lr=0.0001)"
      ],
      "metadata": {
        "id": "IQ1nzwJ0YqNO"
      },
      "execution_count": 18,
      "outputs": []
    },
    {
      "cell_type": "code",
      "source": [
        "num_epochs = 20\n",
        "\n",
        "for epoch in range(1, num_epochs + 1):\n",
        "\n",
        "    train_loss = 0\n",
        "    valid_loss = 0\n",
        "    running_loss = 0\n",
        "\n",
        "    # train\n",
        "    model.train()\n",
        "    for step in range(1, len(train_loader) + 1):\n",
        "        images, labels = next(iter(train_loader))\n",
        "        images = images.to(device)\n",
        "        labels = labels.to(device)\n",
        "\n",
        "        predictions = model(images)\n",
        "        loss = criterion(predictions, labels)\n",
        "\n",
        "        optimizer.zero_grad()\n",
        "        loss.backward()\n",
        "        optimizer.step()\n",
        "\n",
        "        train_loss += loss.item()\n",
        "        sys.stdout.write('\\r')\n",
        "        sys.stdout.write(\"step: %d/%d  train_loss: %.5f\" % (step, len(train_loader), train_loss/step))\n",
        "        sys.stdout.flush()\n",
        "\n",
        "    train_loss = train_loss / len(train_loader)\n",
        "    print()\n",
        "    print(\"epoch: {}  train_loss: {:.5f}\".format(epoch, train_loss))\n",
        "\n",
        "    # validation\n",
        "    model.eval()\n",
        "    with torch.no_grad():\n",
        "        for step in range(1, len(valid_loader) + 1):\n",
        "            images, labels = next(iter(valid_loader))\n",
        "            images = images.to(device)\n",
        "            labels = labels.to(device)\n",
        "\n",
        "            predictions = model(images)\n",
        "            loss = criterion(predictions, labels)\n",
        "\n",
        "            valid_loss += loss.item()\n",
        "            sys.stdout.write('\\r')\n",
        "            sys.stdout.write(\"step: %d/%d  valid_loss: %.5f\" % (step, len(valid_loader), valid_loss/step))\n",
        "            sys.stdout.flush()\n",
        "\n",
        "    valid_loss = valid_loss / len(train_loader)\n",
        "    print()\n",
        "    print(\"epoch: {}  valid_loss: {:.5f}\".format(epoch, valid_loss))\n",
        "    print()"
      ],
      "metadata": {
        "id": "cRFvHZB4ZBig",
        "colab": {
          "base_uri": "https://localhost:8080/"
        },
        "outputId": "bed3bc6f-e008-4fd1-a0d6-6d56eedf9126"
      },
      "execution_count": 25,
      "outputs": [
        {
          "output_type": "stream",
          "name": "stdout",
          "text": [
            "step: 591/591  train_loss: 0.16788\n",
            "epoch: 1  train_loss: 0.16788\n",
            "step: 66/66  valid_loss: 0.15235\n",
            "epoch: 1  valid_loss: 0.01701\n",
            "\n",
            "step: 591/591  train_loss: 0.07990\n",
            "epoch: 2  train_loss: 0.07990\n",
            "step: 66/66  valid_loss: 0.15142\n",
            "epoch: 2  valid_loss: 0.01691\n",
            "\n",
            "step: 591/591  train_loss: 0.05485\n",
            "epoch: 3  train_loss: 0.05485\n",
            "step: 66/66  valid_loss: 0.15169\n",
            "epoch: 3  valid_loss: 0.01694\n",
            "\n",
            "step: 591/591  train_loss: 0.04509\n",
            "epoch: 4  train_loss: 0.04509\n",
            "step: 66/66  valid_loss: 0.23242\n",
            "epoch: 4  valid_loss: 0.02596\n",
            "\n",
            "step: 591/591  train_loss: 0.03432\n",
            "epoch: 5  train_loss: 0.03432\n",
            "step: 66/66  valid_loss: 0.17364\n",
            "epoch: 5  valid_loss: 0.01939\n",
            "\n",
            "step: 591/591  train_loss: 0.02656\n",
            "epoch: 6  train_loss: 0.02656\n",
            "step: 66/66  valid_loss: 0.08277\n",
            "epoch: 6  valid_loss: 0.00924\n",
            "\n",
            "step: 591/591  train_loss: 0.02942\n",
            "epoch: 7  train_loss: 0.02942\n",
            "step: 66/66  valid_loss: 0.07049\n",
            "epoch: 7  valid_loss: 0.00787\n",
            "\n",
            "step: 591/591  train_loss: 0.02477\n",
            "epoch: 8  train_loss: 0.02477\n",
            "step: 66/66  valid_loss: 0.01014\n",
            "epoch: 8  valid_loss: 0.00113\n",
            "\n",
            "step: 591/591  train_loss: 0.01606\n",
            "epoch: 9  train_loss: 0.01606\n",
            "step: 66/66  valid_loss: 0.12474\n",
            "epoch: 9  valid_loss: 0.01393\n",
            "\n",
            "step: 591/591  train_loss: 0.02034\n",
            "epoch: 10  train_loss: 0.02034\n",
            "step: 66/66  valid_loss: 0.04137\n",
            "epoch: 10  valid_loss: 0.00462\n",
            "\n",
            "step: 591/591  train_loss: 0.01645\n",
            "epoch: 11  train_loss: 0.01645\n",
            "step: 66/66  valid_loss: 0.12960\n",
            "epoch: 11  valid_loss: 0.01447\n",
            "\n",
            "step: 591/591  train_loss: 0.01409\n",
            "epoch: 12  train_loss: 0.01409\n",
            "step: 66/66  valid_loss: 0.05859\n",
            "epoch: 12  valid_loss: 0.00654\n",
            "\n",
            "step: 591/591  train_loss: 0.01197\n",
            "epoch: 13  train_loss: 0.01197\n",
            "step: 66/66  valid_loss: 0.06099\n",
            "epoch: 13  valid_loss: 0.00681\n",
            "\n",
            "step: 591/591  train_loss: 0.01497\n",
            "epoch: 14  train_loss: 0.01497\n",
            "step: 66/66  valid_loss: 0.01858\n",
            "epoch: 14  valid_loss: 0.00207\n",
            "\n",
            "step: 591/591  train_loss: 0.01377\n",
            "epoch: 15  train_loss: 0.01377\n",
            "step: 66/66  valid_loss: 0.03587\n",
            "epoch: 15  valid_loss: 0.00401\n",
            "\n",
            "step: 591/591  train_loss: 0.01095\n",
            "epoch: 16  train_loss: 0.01095\n",
            "step: 66/66  valid_loss: 0.04020\n",
            "epoch: 16  valid_loss: 0.00449\n",
            "\n",
            "step: 591/591  train_loss: 0.00941\n",
            "epoch: 17  train_loss: 0.00941\n",
            "step: 66/66  valid_loss: 0.05734\n",
            "epoch: 17  valid_loss: 0.00640\n",
            "\n",
            "step: 591/591  train_loss: 0.00924\n",
            "epoch: 18  train_loss: 0.00924\n",
            "step: 66/66  valid_loss: 0.02727\n",
            "epoch: 18  valid_loss: 0.00305\n",
            "\n",
            "step: 591/591  train_loss: 0.00740\n",
            "epoch: 19  train_loss: 0.00740\n",
            "step: 66/66  valid_loss: 0.06276\n",
            "epoch: 19  valid_loss: 0.00701\n",
            "\n",
            "step: 591/591  train_loss: 0.00971\n",
            "epoch: 20  train_loss: 0.00971\n",
            "step: 66/66  valid_loss: 0.07979\n",
            "epoch: 20  valid_loss: 0.00891\n",
            "\n"
          ]
        }
      ]
    },
    {
      "cell_type": "code",
      "source": [
        "test_pred = []\n",
        "# softmax = nn.Softmax(dim=1)\n",
        "with torch.no_grad():\n",
        "    for step in range(len(test_loader)):\n",
        "        images = next(iter(test_loader))\n",
        "        images[0] = images[0].to(device)\n",
        "\n",
        "        predictions = model(images[0])\n",
        "\n",
        "        test_pred.append(softmax(predictions.detach().cpu().numpy()))"
      ],
      "metadata": {
        "id": "UN071mHUyu6k"
      },
      "execution_count": 27,
      "outputs": []
    },
    {
      "cell_type": "code",
      "source": [
        "test_batch = next(iter(test_loader))[0]\n",
        "test_X = test_batch.reshape(-1, 28, 28)[:36]\n",
        "fig, ax = plt.subplots(nrows=6, ncols=6, figsize=(15, 15))\n",
        "\n",
        "for i, image in enumerate(test_X):\n",
        "    ax[i//6][i%6].axis('off'); ax[i//6][i%6].imshow(image, cmap='gray')\n",
        "    ax[i//6][i%6].set_title(np.argmax(test_pred[0][i], axis=0), fontsize=20, color=\"red\")"
      ],
      "metadata": {
        "id": "daH2y7JP5Gag",
        "outputId": "05d7eac1-905a-4b24-e7aa-aa9d0d566c96",
        "colab": {
          "base_uri": "https://localhost:8080/",
          "height": 1000
        }
      },
      "execution_count": 28,
      "outputs": [
        {
          "output_type": "display_data",
          "data": {
            "text/plain": [
              "<Figure size 1500x1500 with 36 Axes>"
            ],
            "image/png": "[encoded data removed]"
          },
          "metadata": {}
        }
      ]
    },
    {
      "cell_type": "code",
      "source": [
        "submission = pd.read_csv(data_dir + 'sample_submission.csv')\n",
        "print(np.concatenate(test_pred, axis=0).shape)\n",
        "submission[\"Label\"] = np.argmax(np.concatenate(test_pred, axis=0), axis=1)"
      ],
      "metadata": {
        "id": "q2dcyYOE9Klc",
        "colab": {
          "base_uri": "https://localhost:8080/"
        },
        "outputId": "2bf7ece3-795f-4308-ef62-ebab9711350a"
      },
      "execution_count": 30,
      "outputs": [
        {
          "output_type": "stream",
          "name": "stdout",
          "text": [
            "(28000, 10)\n"
          ]
        }
      ]
    },
    {
      "cell_type": "code",
      "source": [
        "submission.head(15)"
      ],
      "metadata": {
        "colab": {
          "base_uri": "https://localhost:8080/",
          "height": 520
        },
        "id": "SRu4bB5j2I_Y",
        "outputId": "051b0ecc-195b-4539-b2e9-9a98203ea21d"
      },
      "execution_count": 31,
      "outputs": [
        {
          "output_type": "execute_result",
          "data": {
            "text/plain": [
              "    ImageId  Label\n",
              "0         1      2\n",
              "1         2      0\n",
              "2         3      9\n",
              "3         4      0\n",
              "4         5      3\n",
              "5         6      7\n",
              "6         7      0\n",
              "7         8      3\n",
              "8         9      0\n",
              "9        10      3\n",
              "10       11      5\n",
              "11       12      7\n",
              "12       13      4\n",
              "13       14      0\n",
              "14       15      4"
            ],
            "text/html": [
              "\n",
              "  <div id=\"df-6c4dfe8d-06a6-46e2-adc4-6c16ef3692d0\" class=\"colab-df-container\">\n",
              "    <div>\n",
              "<style scoped>\n",
              "    .dataframe tbody tr th:only-of-type {\n",
              "        vertical-align: middle;\n",
              "    }\n",
              "\n",
              "    .dataframe tbody tr th {\n",
              "        vertical-align: top;\n",
              "    }\n",
              "\n",
              "    .dataframe thead th {\n",
              "        text-align: right;\n",
              "    }\n",
              "</style>\n",
              "<table border=\"1\" class=\"dataframe\">\n",
              "  <thead>\n",
              "    <tr style=\"text-align: right;\">\n",
              "      <th></th>\n",
              "      <th>ImageId</th>\n",
              "      <th>Label</th>\n",
              "    </tr>\n",
              "  </thead>\n",
              "  <tbody>\n",
              "    <tr>\n",
              "      <th>0</th>\n",
              "      <td>1</td>\n",
              "      <td>2</td>\n",
              "    </tr>\n",
              "    <tr>\n",
              "      <th>1</th>\n",
              "      <td>2</td>\n",
              "      <td>0</td>\n",
              "    </tr>\n",
              "    <tr>\n",
              "      <th>2</th>\n",
              "      <td>3</td>\n",
              "      <td>9</td>\n",
              "    </tr>\n",
              "    <tr>\n",
              "      <th>3</th>\n",
              "      <td>4</td>\n",
              "      <td>0</td>\n",
              "    </tr>\n",
              "    <tr>\n",
              "      <th>4</th>\n",
              "      <td>5</td>\n",
              "      <td>3</td>\n",
              "    </tr>\n",
              "    <tr>\n",
              "      <th>5</th>\n",
              "      <td>6</td>\n",
              "      <td>7</td>\n",
              "    </tr>\n",
              "    <tr>\n",
              "      <th>6</th>\n",
              "      <td>7</td>\n",
              "      <td>0</td>\n",
              "    </tr>\n",
              "    <tr>\n",
              "      <th>7</th>\n",
              "      <td>8</td>\n",
              "      <td>3</td>\n",
              "    </tr>\n",
              "    <tr>\n",
              "      <th>8</th>\n",
              "      <td>9</td>\n",
              "      <td>0</td>\n",
              "    </tr>\n",
              "    <tr>\n",
              "      <th>9</th>\n",
              "      <td>10</td>\n",
              "      <td>3</td>\n",
              "    </tr>\n",
              "    <tr>\n",
              "      <th>10</th>\n",
              "      <td>11</td>\n",
              "      <td>5</td>\n",
              "    </tr>\n",
              "    <tr>\n",
              "      <th>11</th>\n",
              "      <td>12</td>\n",
              "      <td>7</td>\n",
              "    </tr>\n",
              "    <tr>\n",
              "      <th>12</th>\n",
              "      <td>13</td>\n",
              "      <td>4</td>\n",
              "    </tr>\n",
              "    <tr>\n",
              "      <th>13</th>\n",
              "      <td>14</td>\n",
              "      <td>0</td>\n",
              "    </tr>\n",
              "    <tr>\n",
              "      <th>14</th>\n",
              "      <td>15</td>\n",
              "      <td>4</td>\n",
              "    </tr>\n",
              "  </tbody>\n",
              "</table>\n",
              "</div>\n",
              "    <div class=\"colab-df-buttons\">\n",
              "\n",
              "  <div class=\"colab-df-container\">\n",
              "    <button class=\"colab-df-convert\" onclick=\"convertToInteractive('df-6c4dfe8d-06a6-46e2-adc4-6c16ef3692d0')\"\n",
              "            title=\"Convert this dataframe to an interactive table.\"\n",
              "            style=\"display:none;\">\n",
              "\n",
              "  <svg xmlns=\"http://www.w3.org/2000/svg\" height=\"24px\" viewBox=\"0 -960 960 960\">\n",
              "    <path d=\"M120-120v-720h720v720H120Zm60-500h600v-160H180v160Zm220 220h160v-160H400v160Zm0 220h160v-160H400v160ZM180-400h160v-160H180v160Zm440 0h160v-160H620v160ZM180-180h160v-160H180v160Zm440 0h160v-160H620v160Z\"/>\n",
              "  </svg>\n",
              "    </button>\n",
              "\n",
              "  <style>\n",
              "    .colab-df-container {\n",
              "      display:flex;\n",
              "      gap: 12px;\n",
              "    }\n",
              "\n",
              "    .colab-df-convert {\n",
              "      background-color: #E8F0FE;\n",
              "      border: none;\n",
              "      border-radius: 50%;\n",
              "      cursor: pointer;\n",
              "      display: none;\n",
              "      fill: #1967D2;\n",
              "      height: 32px;\n",
              "      padding: 0 0 0 0;\n",
              "      width: 32px;\n",
              "    }\n",
              "\n",
              "    .colab-df-convert:hover {\n",
              "      background-color: #E2EBFA;\n",
              "      box-shadow: 0px 1px 2px rgba(60, 64, 67, 0.3), 0px 1px 3px 1px rgba(60, 64, 67, 0.15);\n",
              "      fill: #174EA6;\n",
              "    }\n",
              "\n",
              "    .colab-df-buttons div {\n",
              "      margin-bottom: 4px;\n",
              "    }\n",
              "\n",
              "    [theme=dark] .colab-df-convert {\n",
              "      background-color: #3B4455;\n",
              "      fill: #D2E3FC;\n",
              "    }\n",
              "\n",
              "    [theme=dark] .colab-df-convert:hover {\n",
              "      background-color: #434B5C;\n",
              "      box-shadow: 0px 1px 3px 1px rgba(0, 0, 0, 0.15);\n",
              "      filter: drop-shadow(0px 1px 2px rgba(0, 0, 0, 0.3));\n",
              "      fill: #FFFFFF;\n",
              "    }\n",
              "  </style>\n",
              "\n",
              "    <script>\n",
              "      const buttonEl =\n",
              "        document.querySelector('#df-6c4dfe8d-06a6-46e2-adc4-6c16ef3692d0 button.colab-df-convert');\n",
              "      buttonEl.style.display =\n",
              "        google.colab.kernel.accessAllowed ? 'block' : 'none';\n",
              "\n",
              "      async function convertToInteractive(key) {\n",
              "        const element = document.querySelector('#df-6c4dfe8d-06a6-46e2-adc4-6c16ef3692d0');\n",
              "        const dataTable =\n",
              "          await google.colab.kernel.invokeFunction('convertToInteractive',\n",
              "                                                    [key], {});\n",
              "        if (!dataTable) return;\n",
              "\n",
              "        const docLinkHtml = 'Like what you see? Visit the ' +\n",
              "          '<a target=\"_blank\" href=https://colab.research.google.com/notebooks/data_table.ipynb>data table notebook</a>'\n",
              "          + ' to learn more about interactive tables.';\n",
              "        element.innerHTML = '';\n",
              "        dataTable['output_type'] = 'display_data';\n",
              "        await google.colab.output.renderOutput(dataTable, element);\n",
              "        const docLink = document.createElement('div');\n",
              "        docLink.innerHTML = docLinkHtml;\n",
              "        element.appendChild(docLink);\n",
              "      }\n",
              "    </script>\n",
              "  </div>\n",
              "\n",
              "\n",
              "<div id=\"df-1300642a-c3e7-4e1b-8352-847b0512ea89\">\n",
              "  <button class=\"colab-df-quickchart\" onclick=\"quickchart('df-1300642a-c3e7-4e1b-8352-847b0512ea89')\"\n",
              "            title=\"Suggest charts.\"\n",
              "            style=\"display:none;\">\n",
              "\n",
              "<svg xmlns=\"http://www.w3.org/2000/svg\" height=\"24px\"viewBox=\"0 0 24 24\"\n",
              "     width=\"24px\">\n",
              "    <g>\n",
              "        <path d=\"M19 3H5c-1.1 0-2 .9-2 2v14c0 1.1.9 2 2 2h14c1.1 0 2-.9 2-2V5c0-1.1-.9-2-2-2zM9 17H7v-7h2v7zm4 0h-2V7h2v10zm4 0h-2v-4h2v4z\"/>\n",
              "    </g>\n",
              "</svg>\n",
              "  </button>\n",
              "\n",
              "<style>\n",
              "  .colab-df-quickchart {\n",
              "      --bg-color: #E8F0FE;\n",
              "      --fill-color: #1967D2;\n",
              "      --hover-bg-color: #E2EBFA;\n",
              "      --hover-fill-color: #174EA6;\n",
              "      --disabled-fill-color: #AAA;\n",
              "      --disabled-bg-color: #DDD;\n",
              "  }\n",
              "\n",
              "  [theme=dark] .colab-df-quickchart {\n",
              "      --bg-color: #3B4455;\n",
              "      --fill-color: #D2E3FC;\n",
              "      --hover-bg-color: #434B5C;\n",
              "      --hover-fill-color: #FFFFFF;\n",
              "      --disabled-bg-color: #3B4455;\n",
              "      --disabled-fill-color: #666;\n",
              "  }\n",
              "\n",
              "  .colab-df-quickchart {\n",
              "    background-color: var(--bg-color);\n",
              "    border: none;\n",
              "    border-radius: 50%;\n",
              "    cursor: pointer;\n",
              "    display: none;\n",
              "    fill: var(--fill-color);\n",
              "    height: 32px;\n",
              "    padding: 0;\n",
              "    width: 32px;\n",
              "  }\n",
              "\n",
              "  .colab-df-quickchart:hover {\n",
              "    background-color: var(--hover-bg-color);\n",
              "    box-shadow: 0 1px 2px rgba(60, 64, 67, 0.3), 0 1px 3px 1px rgba(60, 64, 67, 0.15);\n",
              "    fill: var(--button-hover-fill-color);\n",
              "  }\n",
              "\n",
              "  .colab-df-quickchart-complete:disabled,\n",
              "  .colab-df-quickchart-complete:disabled:hover {\n",
              "    background-color: var(--disabled-bg-color);\n",
              "    fill: var(--disabled-fill-color);\n",
              "    box-shadow: none;\n",
              "  }\n",
              "\n",
              "  .colab-df-spinner {\n",
              "    border: 2px solid var(--fill-color);\n",
              "    border-color: transparent;\n",
              "    border-bottom-color: var(--fill-color);\n",
              "    animation:\n",
              "      spin 1s steps(1) infinite;\n",
              "  }\n",
              "\n",
              "  @keyframes spin {\n",
              "    0% {\n",
              "      border-color: transparent;\n",
              "      border-bottom-color: var(--fill-color);\n",
              "      border-left-color: var(--fill-color);\n",
              "    }\n",
              "    20% {\n",
              "      border-color: transparent;\n",
              "      border-left-color: var(--fill-color);\n",
              "      border-top-color: var(--fill-color);\n",
              "    }\n",
              "    30% {\n",
              "      border-color: transparent;\n",
              "      border-left-color: var(--fill-color);\n",
              "      border-top-color: var(--fill-color);\n",
              "      border-right-color: var(--fill-color);\n",
              "    }\n",
              "    40% {\n",
              "      border-color: transparent;\n",
              "      border-right-color: var(--fill-color);\n",
              "      border-top-color: var(--fill-color);\n",
              "    }\n",
              "    60% {\n",
              "      border-color: transparent;\n",
              "      border-right-color: var(--fill-color);\n",
              "    }\n",
              "    80% {\n",
              "      border-color: transparent;\n",
              "      border-right-color: var(--fill-color);\n",
              "      border-bottom-color: var(--fill-color);\n",
              "    }\n",
              "    90% {\n",
              "      border-color: transparent;\n",
              "      border-bottom-color: var(--fill-color);\n",
              "    }\n",
              "  }\n",
              "</style>\n",
              "\n",
              "  <script>\n",
              "    async function quickchart(key) {\n",
              "      const quickchartButtonEl =\n",
              "        document.querySelector('#' + key + ' button');\n",
              "      quickchartButtonEl.disabled = true;  // To prevent multiple clicks.\n",
              "      quickchartButtonEl.classList.add('colab-df-spinner');\n",
              "      try {\n",
              "        const charts = await google.colab.kernel.invokeFunction(\n",
              "            'suggestCharts', [key], {});\n",
              "      } catch (error) {\n",
              "        console.error('Error during call to suggestCharts:', error);\n",
              "      }\n",
              "      quickchartButtonEl.classList.remove('colab-df-spinner');\n",
              "      quickchartButtonEl.classList.add('colab-df-quickchart-complete');\n",
              "    }\n",
              "    (() => {\n",
              "      let quickchartButtonEl =\n",
              "        document.querySelector('#df-1300642a-c3e7-4e1b-8352-847b0512ea89 button');\n",
              "      quickchartButtonEl.style.display =\n",
              "        google.colab.kernel.accessAllowed ? 'block' : 'none';\n",
              "    })();\n",
              "  </script>\n",
              "</div>\n",
              "    </div>\n",
              "  </div>\n"
            ]
          },
          "metadata": {},
          "execution_count": 31
        }
      ]
    }
  ]
}