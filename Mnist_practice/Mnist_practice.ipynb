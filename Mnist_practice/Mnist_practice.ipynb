{
  "nbformat": 4,
  "nbformat_minor": 0,
  "metadata": {
    "colab": {
      "provenance": []
    },
    "kernelspec": {
      "name": "python3",
      "display_name": "Python 3"
    },
    "language_info": {
      "name": "python"
    }
  },
  "cells": [
    {
      "cell_type": "code",
      "execution_count": 47,
      "metadata": {
        "id": "MhgP6YaE_wa0"
      },
      "outputs": [],
      "source": [
        "import numpy as np\n",
        "import pandas as pd\n",
        "import os\n",
        "import sys\n",
        "import matplotlib.pyplot as plt\n",
        "import torch\n",
        "from torchvision import transforms\n",
        "from torchvision.datasets import ImageFolder\n",
        "from torch import nn\n",
        "from torch import optim\n",
        "from torch.utils.data import Dataset, DataLoader, random_split\n",
        "from sklearn.model_selection import train_test_split\n",
        "import cv2"
      ]
    },
    {
      "cell_type": "code",
      "source": [
        "data_dir = 'drive/MyDrive/kaggle_mnist/digit-recognizer/'\n",
        "\n",
        "for dirname, _, filenames in os.walk('drive/MyDrive/kaggle_mnist/digit-recognizer'):\n",
        "    for filename in filenames:\n",
        "        print(os.path.join(dirname, filename))\n",
        "\n",
        "# You can write up to 20GB to the current directory (/kaggle/working/) that gets preserved as output when you create a version using \"Save & Run All\"\n",
        "# You can also write temporary files to /kaggle/temp/, but they won't be saved outside of the current session"
      ],
      "metadata": {
        "colab": {
          "base_uri": "https://localhost:8080/"
        },
        "id": "wm4nL9zQEdLA",
        "outputId": "5f5bbbd1-7a7d-4197-e350-758a2f166455"
      },
      "execution_count": 48,
      "outputs": [
        {
          "output_type": "stream",
          "name": "stdout",
          "text": [
            "drive/MyDrive/kaggle_mnist/digit-recognizer/test.csv\n",
            "drive/MyDrive/kaggle_mnist/digit-recognizer/sample_submission.csv\n",
            "drive/MyDrive/kaggle_mnist/digit-recognizer/train.csv\n"
          ]
        }
      ]
    },
    {
      "cell_type": "code",
      "source": [
        "train_data = pd.read_csv(data_dir + 'train.csv')\n",
        "test_data = pd.read_csv(data_dir + 'test.csv')"
      ],
      "metadata": {
        "id": "AD1mqXHRO3Da"
      },
      "execution_count": 49,
      "outputs": []
    },
    {
      "cell_type": "code",
      "source": [
        "train_images = train_data.drop('label', axis=1).values.reshape(-1, 1, 28, 28)\n",
        "test_images = test_data.values.reshape(-1, 1, 28, 28)\n",
        "train_labels = train_data['label'].values\n",
        "\n",
        "# nomalization\n",
        "train_images = (train_images / 255.0).astype(np.float32)\n",
        "test_images = (test_images / 255.0).astype(np.float32)\n",
        "\n",
        "print(train_images.shape)\n",
        "print(test_images.shape)"
      ],
      "metadata": {
        "colab": {
          "base_uri": "https://localhost:8080/"
        },
        "id": "PK5SsfdjTl9d",
        "outputId": "8752d85c-9326-4c19-c279-735144b74331"
      },
      "execution_count": 50,
      "outputs": [
        {
          "output_type": "stream",
          "name": "stdout",
          "text": [
            "(42000, 1, 28, 28)\n",
            "(28000, 1, 28, 28)\n"
          ]
        }
      ]
    },
    {
      "cell_type": "code",
      "source": [
        "train_images, valid_images, train_labels, valid_labels = train_test_split(train_images, train_labels, test_size=0.05, random_state=42, stratify=train_labels)\n",
        "print(type(train_images[0][0][0][0]))\n",
        "print(type(valid_images[0][0][0][0]))\n",
        "\n",
        "train_tensor = torch.utils.data.TensorDataset(torch.tensor(train_images), torch.tensor(train_labels))\n",
        "valid_tensor = torch.utils.data.TensorDataset(torch.tensor(valid_images), torch.tensor(valid_labels))\n",
        "test_tensor = torch.utils.data.TensorDataset(torch.tensor(test_images))\n",
        "\n",
        "train_loader = DataLoader(train_tensor, batch_size=64, shuffle=True)\n",
        "valid_loader = DataLoader(valid_tensor, batch_size=64, shuffle=False)\n",
        "test_loader = DataLoader(test_tensor, batch_size=100, shuffle=False)"
      ],
      "metadata": {
        "id": "H2JRXNJuPUCU",
        "colab": {
          "base_uri": "https://localhost:8080/"
        },
        "outputId": "4fc3a0cd-a99f-4d5c-e359-33c7a100131d"
      },
      "execution_count": 51,
      "outputs": [
        {
          "output_type": "stream",
          "name": "stdout",
          "text": [
            "<class 'numpy.float32'>\n",
            "<class 'numpy.float32'>\n"
          ]
        }
      ]
    },
    {
      "cell_type": "code",
      "source": [
        "class Network(nn.Module):\n",
        "    def __init__(self):\n",
        "        super().__init__()\n",
        "        self.layer1 = nn.Sequential(\n",
        "            nn.Conv2d(in_channels=1, out_channels=32, kernel_size=3, stride=1, padding=1),  # (batch, 1, 28, 28)  ->  (batch, 32, 28, 28)\n",
        "            nn.ReLU(),\n",
        "            nn.MaxPool2d(kernel_size=2, stride=2),                                          # (batch, 32, 28, 28)  ->  (batch, 32, 14, 14)\n",
        "        )\n",
        "        self.layer2 = nn.Sequential(\n",
        "            nn.Conv2d(in_channels=32, out_channels=64, kernel_size=3, stride=1, padding=1), # (batch, 32, 14, 14)  ->  (batch, 64, 14, 14)\n",
        "            nn.ReLU(),\n",
        "            nn.MaxPool2d(kernel_size=2, stride=2),                                          # (batch, 64, 14, 14)  ->  (batch, 64, 7, 7)\n",
        "            nn.Flatten()\n",
        "        )\n",
        "        self.layer3 = nn.Sequential(\n",
        "            nn.Linear(in_features=7*7*64, out_features=128),\n",
        "            nn.Linear(in_features=128, out_features=10),\n",
        "            nn.Softmax()\n",
        "        )\n",
        "\n",
        "    def forward(self, x):\n",
        "        x = self.layer1(x)\n",
        "        x = self.layer2(x)\n",
        "        x = self.layer3(x)\n",
        "        return x"
      ],
      "metadata": {
        "id": "yCYQDo4nVjyY"
      },
      "execution_count": 52,
      "outputs": []
    },
    {
      "cell_type": "code",
      "source": [
        "model = Network()\n",
        "\n",
        "device = torch.device('cuda:0' if torch.cuda.is_available() else 'cpu')\n",
        "model.to(device)"
      ],
      "metadata": {
        "colab": {
          "base_uri": "https://localhost:8080/"
        },
        "id": "JLzue7E_YZtJ",
        "outputId": "c50144c3-3909-4765-bce8-d131af6ea9ed"
      },
      "execution_count": 53,
      "outputs": [
        {
          "output_type": "execute_result",
          "data": {
            "text/plain": [
              "Network(\n",
              "  (layer1): Sequential(\n",
              "    (0): Conv2d(1, 32, kernel_size=(3, 3), stride=(1, 1), padding=(1, 1))\n",
              "    (1): ReLU()\n",
              "    (2): MaxPool2d(kernel_size=2, stride=2, padding=0, dilation=1, ceil_mode=False)\n",
              "  )\n",
              "  (layer2): Sequential(\n",
              "    (0): Conv2d(32, 64, kernel_size=(3, 3), stride=(1, 1), padding=(1, 1))\n",
              "    (1): ReLU()\n",
              "    (2): MaxPool2d(kernel_size=2, stride=2, padding=0, dilation=1, ceil_mode=False)\n",
              "    (3): Flatten(start_dim=1, end_dim=-1)\n",
              "  )\n",
              "  (layer3): Sequential(\n",
              "    (0): Linear(in_features=3136, out_features=128, bias=True)\n",
              "    (1): Linear(in_features=128, out_features=10, bias=True)\n",
              "    (2): Softmax(dim=None)\n",
              "  )\n",
              ")"
            ]
          },
          "metadata": {},
          "execution_count": 53
        }
      ]
    },
    {
      "cell_type": "code",
      "source": [
        "test_batch = next(iter(test_loader))[0]\n",
        "test_X = test_batch.reshape(-1, 28, 28)[:36]\n",
        "fig, ax = plt.subplots(nrows=6, ncols=6, figsize=(15, 15))\n",
        "\n",
        "for i, image in enumerate(test_X):\n",
        "    ax[i//6][i%6].axis('off'); ax[i//6][i%6].imshow(image, cmap='gray')\n",
        "    ax[i//6][i%6].set_title(np.argmax(test_pred[0][i], axis=0), fontsize=20, color=\"red\")"
      ],
      "metadata": {
        "colab": {
          "base_uri": "https://localhost:8080/",
          "height": 1000
        },
        "id": "hL6i5rgh5WFB",
        "outputId": "08e4150a-a27b-42b7-f882-01396afbcabf"
      },
      "execution_count": 54,
      "outputs": [
        {
          "output_type": "display_data",
          "data": {
            "text/plain": [
              "<Figure size 1500x1500 with 36 Axes>"
            ],
            "image/png": "[encoded data removed]"
          },
          "metadata": {}
        }
      ]
    },
    {
      "cell_type": "code",
      "source": [
        "# loss function\n",
        "criterion = nn.CrossEntropyLoss()\n",
        "optimizer = optim.Adam(model.parameters(), lr=0.0001)"
      ],
      "metadata": {
        "id": "IQ1nzwJ0YqNO"
      },
      "execution_count": null,
      "outputs": []
    },
    {
      "cell_type": "code",
      "source": [
        "num_epochs = 100\n",
        "\n",
        "for epoch in range(1, num_epochs + 1):\n",
        "\n",
        "    train_loss = 0\n",
        "    valid_loss = 0\n",
        "    running_loss = 0\n",
        "\n",
        "    # train\n",
        "    model.train()\n",
        "    for step in range(len(train_loader)):\n",
        "        images, labels = next(iter(train_loader))\n",
        "\n",
        "        predictions = model(images)\n",
        "\n",
        "        optimizer.zero_grad()\n",
        "        loss = criterion(predictions, labels)\n",
        "        loss.backward()\n",
        "        optimizer.step()\n",
        "\n",
        "        train_loss += loss\n",
        "        sys.stdout.write('\\r')\n",
        "        sys.stdout.write(\"step: %d/%d  train_loss: %.5f\" % (step, len(train_loader), train_loss/step))\n",
        "        sys.stdout.flush()\n",
        "\n",
        "    train_loss = train_loss / len(train_loader)\n",
        "    print()\n",
        "    print(\"epoch: {}  train_loss: {:.5f}\".format(epoch, train_loss))\n",
        "\n",
        "    # validation\n",
        "    model.eval()\n",
        "    with torch.no_grad():\n",
        "        for step in range(len(valid_loader)):\n",
        "            images, labels = next(iter(valid_loader))\n",
        "            predictions = model(images)\n",
        "            loss = criterion(predictions, labels)\n",
        "\n",
        "            valid_loss += loss\n",
        "            sys.stdout.write('\\r')\n",
        "            sys.stdout.write(\"step: %d/%d  valid_loss: %.5f\" % (step, len(valid_loader), valid_loss/step))\n",
        "            sys.stdout.flush()\n",
        "\n",
        "    valid_loss = valid_loss / len(train_loader)\n",
        "    print()\n",
        "    print(\"epoch: {}  valid_loss: {:.5f}\".format(epoch, valid_loss))\n"
      ],
      "metadata": {
        "id": "cRFvHZB4ZBig",
        "colab": {
          "base_uri": "https://localhost:8080/",
          "height": 1000
        },
        "outputId": "77aa9a2d-4393-490a-d724-8915e24f3d0f"
      },
      "execution_count": null,
      "outputs": [
        {
          "output_type": "stream",
          "name": "stdout",
          "text": [
            "\rstep: 0/499  train_loss: inf"
          ]
        },
        {
          "output_type": "stream",
          "name": "stderr",
          "text": [
            "/usr/local/lib/python3.10/dist-packages/torch/nn/modules/container.py:217: UserWarning: Implicit dimension choice for softmax has been deprecated. Change the call to include dim=X as an argument.\n",
            "  input = module(input)\n"
          ]
        },
        {
          "output_type": "stream",
          "name": "stdout",
          "text": [
            "step: 498/499  train_loss: 1.49790\n",
            "epoch: 1  train_loss: 1.49490\n",
            "step: 26/27  valid_loss: 1.56615\n",
            "epoch: 1  valid_loss: 0.08160\n",
            "step: 498/499  train_loss: 1.49292\n",
            "epoch: 2  train_loss: 1.48993\n",
            "step: 26/27  valid_loss: 1.55529\n",
            "epoch: 2  valid_loss: 0.08104\n",
            "step: 498/499  train_loss: 1.48952\n",
            "epoch: 3  train_loss: 1.48653\n",
            "step: 26/27  valid_loss: 1.55082\n",
            "epoch: 3  valid_loss: 0.08080\n",
            "step: 498/499  train_loss: 1.48846\n",
            "epoch: 4  train_loss: 1.48547\n",
            "step: 26/27  valid_loss: 1.55369\n",
            "epoch: 4  valid_loss: 0.08095\n",
            "step: 498/499  train_loss: 1.48643\n",
            "epoch: 5  train_loss: 1.48345\n",
            "step: 26/27  valid_loss: 1.54880\n",
            "epoch: 5  valid_loss: 0.08070\n",
            "step: 498/499  train_loss: 1.48328\n",
            "epoch: 6  train_loss: 1.48031\n",
            "step: 26/27  valid_loss: 1.54824\n",
            "epoch: 6  valid_loss: 0.08067\n",
            "step: 498/499  train_loss: 1.48224\n",
            "epoch: 7  train_loss: 1.47927\n",
            "step: 26/27  valid_loss: 1.54812\n",
            "epoch: 7  valid_loss: 0.08066\n",
            "step: 498/499  train_loss: 1.48125\n",
            "epoch: 8  train_loss: 1.47828\n",
            "step: 26/27  valid_loss: 1.54992\n",
            "epoch: 8  valid_loss: 0.08076\n",
            "step: 498/499  train_loss: 1.48083\n",
            "epoch: 9  train_loss: 1.47787\n",
            "step: 26/27  valid_loss: 1.54139\n",
            "epoch: 9  valid_loss: 0.08031\n",
            "step: 498/499  train_loss: 1.47950\n",
            "epoch: 10  train_loss: 1.47653\n",
            "step: 26/27  valid_loss: 1.55209\n",
            "epoch: 10  valid_loss: 0.08087\n",
            "step: 498/499  train_loss: 1.47959\n",
            "epoch: 11  train_loss: 1.47663\n",
            "step: 26/27  valid_loss: 1.55038\n",
            "epoch: 11  valid_loss: 0.08078\n",
            "step: 498/499  train_loss: 1.47912\n",
            "epoch: 12  train_loss: 1.47615\n",
            "step: 26/27  valid_loss: 1.54718\n",
            "epoch: 12  valid_loss: 0.08061\n",
            "step: 498/499  train_loss: 1.47816\n",
            "epoch: 13  train_loss: 1.47520\n",
            "step: 26/27  valid_loss: 1.54967\n",
            "epoch: 13  valid_loss: 0.08074\n",
            "step: 498/499  train_loss: 1.47764\n",
            "epoch: 14  train_loss: 1.47468\n",
            "step: 26/27  valid_loss: 1.54432\n",
            "epoch: 14  valid_loss: 0.08047\n",
            "step: 498/499  train_loss: 1.47694\n",
            "epoch: 15  train_loss: 1.47398\n",
            "step: 26/27  valid_loss: 1.54931\n",
            "epoch: 15  valid_loss: 0.08073\n",
            "step: 498/499  train_loss: 1.47626\n",
            "epoch: 16  train_loss: 1.47331\n",
            "step: 26/27  valid_loss: 1.55048\n",
            "epoch: 16  valid_loss: 0.08079\n",
            "step: 498/499  train_loss: 1.47580\n",
            "epoch: 17  train_loss: 1.47284\n",
            "step: 26/27  valid_loss: 1.54996\n",
            "epoch: 17  valid_loss: 0.08076\n",
            "step: 498/499  train_loss: 1.47516\n",
            "epoch: 18  train_loss: 1.47221\n",
            "step: 26/27  valid_loss: 1.55151\n",
            "epoch: 18  valid_loss: 0.08084\n",
            "step: 498/499  train_loss: 1.47360\n",
            "epoch: 19  train_loss: 1.47065\n",
            "step: 26/27  valid_loss: 1.54886\n",
            "epoch: 19  valid_loss: 0.08070\n",
            "step: 498/499  train_loss: 1.47499\n",
            "epoch: 20  train_loss: 1.47203\n",
            "step: 26/27  valid_loss: 1.54992\n",
            "epoch: 20  valid_loss: 0.08076\n",
            "step: 498/499  train_loss: 1.47287\n",
            "epoch: 21  train_loss: 1.46991\n",
            "step: 26/27  valid_loss: 1.53632\n",
            "epoch: 21  valid_loss: 0.08005\n",
            "step: 498/499  train_loss: 1.47325\n",
            "epoch: 22  train_loss: 1.47030\n",
            "step: 26/27  valid_loss: 1.55006\n",
            "epoch: 22  valid_loss: 0.08076\n",
            "step: 498/499  train_loss: 1.47436\n",
            "epoch: 23  train_loss: 1.47140\n",
            "step: 26/27  valid_loss: 1.54324\n",
            "epoch: 23  valid_loss: 0.08041\n",
            "step: 498/499  train_loss: 1.47155\n",
            "epoch: 24  train_loss: 1.46860\n",
            "step: 26/27  valid_loss: 1.53763\n",
            "epoch: 24  valid_loss: 0.08012\n",
            "step: 498/499  train_loss: 1.47315\n",
            "epoch: 25  train_loss: 1.47020\n",
            "step: 26/27  valid_loss: 1.54481\n",
            "epoch: 25  valid_loss: 0.08049\n",
            "step: 498/499  train_loss: 1.47222\n",
            "epoch: 26  train_loss: 1.46927\n",
            "step: 26/27  valid_loss: 1.54273\n",
            "epoch: 26  valid_loss: 0.08038\n",
            "step: 498/499  train_loss: 1.47130\n",
            "epoch: 27  train_loss: 1.46835\n",
            "step: 26/27  valid_loss: 1.54557\n",
            "epoch: 27  valid_loss: 0.08053\n",
            "step: 498/499  train_loss: 1.47258\n",
            "epoch: 28  train_loss: 1.46963\n",
            "step: 26/27  valid_loss: 1.54581\n",
            "epoch: 28  valid_loss: 0.08054\n",
            "step: 90/499  train_loss: 1.48463"
          ]
        },
        {
          "output_type": "error",
          "ename": "KeyboardInterrupt",
          "evalue": "ignored",
          "traceback": [
            "\u001b[0;31m---------------------------------------------------------------------------\u001b[0m",
            "\u001b[0;31mKeyboardInterrupt\u001b[0m                         Traceback (most recent call last)",
            "\u001b[0;32m<ipython-input-33-03c09d328014>\u001b[0m in \u001b[0;36m<cell line: 3>\u001b[0;34m()\u001b[0m\n\u001b[1;32m     16\u001b[0m         \u001b[0moptimizer\u001b[0m\u001b[0;34m.\u001b[0m\u001b[0mzero_grad\u001b[0m\u001b[0;34m(\u001b[0m\u001b[0;34m)\u001b[0m\u001b[0;34m\u001b[0m\u001b[0;34m\u001b[0m\u001b[0m\n\u001b[1;32m     17\u001b[0m         \u001b[0mloss\u001b[0m \u001b[0;34m=\u001b[0m \u001b[0mcriterion\u001b[0m\u001b[0;34m(\u001b[0m\u001b[0mpredictions\u001b[0m\u001b[0;34m,\u001b[0m \u001b[0mlabels\u001b[0m\u001b[0;34m)\u001b[0m\u001b[0;34m\u001b[0m\u001b[0;34m\u001b[0m\u001b[0m\n\u001b[0;32m---> 18\u001b[0;31m         \u001b[0mloss\u001b[0m\u001b[0;34m.\u001b[0m\u001b[0mbackward\u001b[0m\u001b[0;34m(\u001b[0m\u001b[0;34m)\u001b[0m\u001b[0;34m\u001b[0m\u001b[0;34m\u001b[0m\u001b[0m\n\u001b[0m\u001b[1;32m     19\u001b[0m         \u001b[0moptimizer\u001b[0m\u001b[0;34m.\u001b[0m\u001b[0mstep\u001b[0m\u001b[0;34m(\u001b[0m\u001b[0;34m)\u001b[0m\u001b[0;34m\u001b[0m\u001b[0;34m\u001b[0m\u001b[0m\n\u001b[1;32m     20\u001b[0m \u001b[0;34m\u001b[0m\u001b[0m\n",
            "\u001b[0;32m/usr/local/lib/python3.10/dist-packages/torch/_tensor.py\u001b[0m in \u001b[0;36mbackward\u001b[0;34m(self, gradient, retain_graph, create_graph, inputs)\u001b[0m\n\u001b[1;32m    485\u001b[0m                 \u001b[0minputs\u001b[0m\u001b[0;34m=\u001b[0m\u001b[0minputs\u001b[0m\u001b[0;34m,\u001b[0m\u001b[0;34m\u001b[0m\u001b[0;34m\u001b[0m\u001b[0m\n\u001b[1;32m    486\u001b[0m             )\n\u001b[0;32m--> 487\u001b[0;31m         torch.autograd.backward(\n\u001b[0m\u001b[1;32m    488\u001b[0m             \u001b[0mself\u001b[0m\u001b[0;34m,\u001b[0m \u001b[0mgradient\u001b[0m\u001b[0;34m,\u001b[0m \u001b[0mretain_graph\u001b[0m\u001b[0;34m,\u001b[0m \u001b[0mcreate_graph\u001b[0m\u001b[0;34m,\u001b[0m \u001b[0minputs\u001b[0m\u001b[0;34m=\u001b[0m\u001b[0minputs\u001b[0m\u001b[0;34m\u001b[0m\u001b[0;34m\u001b[0m\u001b[0m\n\u001b[1;32m    489\u001b[0m         )\n",
            "\u001b[0;32m/usr/local/lib/python3.10/dist-packages/torch/autograd/__init__.py\u001b[0m in \u001b[0;36mbackward\u001b[0;34m(tensors, grad_tensors, retain_graph, create_graph, grad_variables, inputs)\u001b[0m\n\u001b[1;32m    198\u001b[0m     \u001b[0;31m# some Python versions print out the first line of a multi-line function\u001b[0m\u001b[0;34m\u001b[0m\u001b[0;34m\u001b[0m\u001b[0m\n\u001b[1;32m    199\u001b[0m     \u001b[0;31m# calls in the traceback and some print out the last line\u001b[0m\u001b[0;34m\u001b[0m\u001b[0;34m\u001b[0m\u001b[0m\n\u001b[0;32m--> 200\u001b[0;31m     Variable._execution_engine.run_backward(  # Calls into the C++ engine to run the backward pass\n\u001b[0m\u001b[1;32m    201\u001b[0m         \u001b[0mtensors\u001b[0m\u001b[0;34m,\u001b[0m \u001b[0mgrad_tensors_\u001b[0m\u001b[0;34m,\u001b[0m \u001b[0mretain_graph\u001b[0m\u001b[0;34m,\u001b[0m \u001b[0mcreate_graph\u001b[0m\u001b[0;34m,\u001b[0m \u001b[0minputs\u001b[0m\u001b[0;34m,\u001b[0m\u001b[0;34m\u001b[0m\u001b[0;34m\u001b[0m\u001b[0m\n\u001b[1;32m    202\u001b[0m         allow_unreachable=True, accumulate_grad=True)  # Calls into the C++ engine to run the backward pass\n",
            "\u001b[0;31mKeyboardInterrupt\u001b[0m: "
          ]
        }
      ]
    },
    {
      "cell_type": "code",
      "source": [
        "def softmax(x):\n",
        "    return np.exp(x)/np.sum(np.exp(x), axis=1)[:, None]"
      ],
      "metadata": {
        "id": "XZrtsjyd1JhZ"
      },
      "execution_count": null,
      "outputs": []
    },
    {
      "cell_type": "code",
      "source": [
        "test_pred = []\n",
        "# softmax = nn.Softmax(dim=1)\n",
        "with torch.no_grad():\n",
        "    for step in range(len(test_loader)):\n",
        "        images = next(iter(test_loader))\n",
        "\n",
        "        predictions = model(images[0])\n",
        "\n",
        "        test_pred.append(softmax(predictions.detach().cpu().numpy()))"
      ],
      "metadata": {
        "id": "UN071mHUyu6k"
      },
      "execution_count": null,
      "outputs": []
    },
    {
      "cell_type": "code",
      "source": [
        "test_batch = next(iter(test_loader))[0]\n",
        "test_X = test_batch.reshape(-1, 28, 28)[:36]\n",
        "fig, ax = plt.subplots(nrows=6, ncols=6, figsize=(15, 15))\n",
        "\n",
        "for i, image in enumerate(test_X):\n",
        "    ax[i//6][i%6].axis('off'); ax[i//6][i%6].imshow(image, cmap='gray')\n",
        "    ax[i//6][i%6].set_title(np.argmax(test_pred[0][i], axis=0), fontsize=20, color=\"red\")"
      ],
      "metadata": {
        "id": "daH2y7JP5Gag",
        "outputId": "e84a1076-54b8-4680-ff85-3befdeed10f3",
        "colab": {
          "base_uri": "https://localhost:8080/",
          "height": 1000
        }
      },
      "execution_count": null,
      "outputs": [
        {
          "output_type": "display_data",
          "data": {
            "text/plain": [
              "<Figure size 1500x1500 with 36 Axes>"
            ],
            "image/png": "[encoded data removed]"
          },
          "metadata": {}
        }
      ]
    },
    {
      "cell_type": "code",
      "source": [
        "submission = pd.read_csv(data_dir + 'sample_submission.csv')\n",
        "print(np.concatenate(test_pred, axis=0).shape)\n",
        "submission[\"Label\"] = np.argmax(np.concatenate(test_pred, axis=0), axis=1)"
      ],
      "metadata": {
        "id": "q2dcyYOE9Klc",
        "colab": {
          "base_uri": "https://localhost:8080/"
        },
        "outputId": "59dff1e6-b6b8-46f4-9c76-123cbd356484"
      },
      "execution_count": null,
      "outputs": [
        {
          "output_type": "stream",
          "name": "stdout",
          "text": [
            "(28000, 10)\n"
          ]
        }
      ]
    },
    {
      "cell_type": "code",
      "source": [
        "submission.head(15)"
      ],
      "metadata": {
        "colab": {
          "base_uri": "https://localhost:8080/",
          "height": 520
        },
        "id": "SRu4bB5j2I_Y",
        "outputId": "6bb12378-6447-4592-d3ce-164a57054da2"
      },
      "execution_count": null,
      "outputs": [
        {
          "output_type": "execute_result",
          "data": {
            "text/plain": [
              "    ImageId  Label\n",
              "0         1      2\n",
              "1         2      0\n",
              "2         3      9\n",
              "3         4      9\n",
              "4         5      3\n",
              "5         6      7\n",
              "6         7      0\n",
              "7         8      3\n",
              "8         9      0\n",
              "9        10      3\n",
              "10       11      5\n",
              "11       12      7\n",
              "12       13      4\n",
              "13       14      0\n",
              "14       15      4"
            ],
            "text/html": [
              "\n",
              "  <div id=\"df-b022963b-f385-4fed-9262-c484cca6ae1c\" class=\"colab-df-container\">\n",
              "    <div>\n",
              "<style scoped>\n",
              "    .dataframe tbody tr th:only-of-type {\n",
              "        vertical-align: middle;\n",
              "    }\n",
              "\n",
              "    .dataframe tbody tr th {\n",
              "        vertical-align: top;\n",
              "    }\n",
              "\n",
              "    .dataframe thead th {\n",
              "        text-align: right;\n",
              "    }\n",
              "</style>\n",
              "<table border=\"1\" class=\"dataframe\">\n",
              "  <thead>\n",
              "    <tr style=\"text-align: right;\">\n",
              "      <th></th>\n",
              "      <th>ImageId</th>\n",
              "      <th>Label</th>\n",
              "    </tr>\n",
              "  </thead>\n",
              "  <tbody>\n",
              "    <tr>\n",
              "      <th>0</th>\n",
              "      <td>1</td>\n",
              "      <td>2</td>\n",
              "    </tr>\n",
              "    <tr>\n",
              "      <th>1</th>\n",
              "      <td>2</td>\n",
              "      <td>0</td>\n",
              "    </tr>\n",
              "    <tr>\n",
              "      <th>2</th>\n",
              "      <td>3</td>\n",
              "      <td>9</td>\n",
              "    </tr>\n",
              "    <tr>\n",
              "      <th>3</th>\n",
              "      <td>4</td>\n",
              "      <td>9</td>\n",
              "    </tr>\n",
              "    <tr>\n",
              "      <th>4</th>\n",
              "      <td>5</td>\n",
              "      <td>3</td>\n",
              "    </tr>\n",
              "    <tr>\n",
              "      <th>5</th>\n",
              "      <td>6</td>\n",
              "      <td>7</td>\n",
              "    </tr>\n",
              "    <tr>\n",
              "      <th>6</th>\n",
              "      <td>7</td>\n",
              "      <td>0</td>\n",
              "    </tr>\n",
              "    <tr>\n",
              "      <th>7</th>\n",
              "      <td>8</td>\n",
              "      <td>3</td>\n",
              "    </tr>\n",
              "    <tr>\n",
              "      <th>8</th>\n",
              "      <td>9</td>\n",
              "      <td>0</td>\n",
              "    </tr>\n",
              "    <tr>\n",
              "      <th>9</th>\n",
              "      <td>10</td>\n",
              "      <td>3</td>\n",
              "    </tr>\n",
              "    <tr>\n",
              "      <th>10</th>\n",
              "      <td>11</td>\n",
              "      <td>5</td>\n",
              "    </tr>\n",
              "    <tr>\n",
              "      <th>11</th>\n",
              "      <td>12</td>\n",
              "      <td>7</td>\n",
              "    </tr>\n",
              "    <tr>\n",
              "      <th>12</th>\n",
              "      <td>13</td>\n",
              "      <td>4</td>\n",
              "    </tr>\n",
              "    <tr>\n",
              "      <th>13</th>\n",
              "      <td>14</td>\n",
              "      <td>0</td>\n",
              "    </tr>\n",
              "    <tr>\n",
              "      <th>14</th>\n",
              "      <td>15</td>\n",
              "      <td>4</td>\n",
              "    </tr>\n",
              "  </tbody>\n",
              "</table>\n",
              "</div>\n",
              "    <div class=\"colab-df-buttons\">\n",
              "\n",
              "  <div class=\"colab-df-container\">\n",
              "    <button class=\"colab-df-convert\" onclick=\"convertToInteractive('df-b022963b-f385-4fed-9262-c484cca6ae1c')\"\n",
              "            title=\"Convert this dataframe to an interactive table.\"\n",
              "            style=\"display:none;\">\n",
              "\n",
              "  <svg xmlns=\"http://www.w3.org/2000/svg\" height=\"24px\" viewBox=\"0 -960 960 960\">\n",
              "    <path d=\"M120-120v-720h720v720H120Zm60-500h600v-160H180v160Zm220 220h160v-160H400v160Zm0 220h160v-160H400v160ZM180-400h160v-160H180v160Zm440 0h160v-160H620v160ZM180-180h160v-160H180v160Zm440 0h160v-160H620v160Z\"/>\n",
              "  </svg>\n",
              "    </button>\n",
              "\n",
              "  <style>\n",
              "    .colab-df-container {\n",
              "      display:flex;\n",
              "      gap: 12px;\n",
              "    }\n",
              "\n",
              "    .colab-df-convert {\n",
              "      background-color: #E8F0FE;\n",
              "      border: none;\n",
              "      border-radius: 50%;\n",
              "      cursor: pointer;\n",
              "      display: none;\n",
              "      fill: #1967D2;\n",
              "      height: 32px;\n",
              "      padding: 0 0 0 0;\n",
              "      width: 32px;\n",
              "    }\n",
              "\n",
              "    .colab-df-convert:hover {\n",
              "      background-color: #E2EBFA;\n",
              "      box-shadow: 0px 1px 2px rgba(60, 64, 67, 0.3), 0px 1px 3px 1px rgba(60, 64, 67, 0.15);\n",
              "      fill: #174EA6;\n",
              "    }\n",
              "\n",
              "    .colab-df-buttons div {\n",
              "      margin-bottom: 4px;\n",
              "    }\n",
              "\n",
              "    [theme=dark] .colab-df-convert {\n",
              "      background-color: #3B4455;\n",
              "      fill: #D2E3FC;\n",
              "    }\n",
              "\n",
              "    [theme=dark] .colab-df-convert:hover {\n",
              "      background-color: #434B5C;\n",
              "      box-shadow: 0px 1px 3px 1px rgba(0, 0, 0, 0.15);\n",
              "      filter: drop-shadow(0px 1px 2px rgba(0, 0, 0, 0.3));\n",
              "      fill: #FFFFFF;\n",
              "    }\n",
              "  </style>\n",
              "\n",
              "    <script>\n",
              "      const buttonEl =\n",
              "        document.querySelector('#df-b022963b-f385-4fed-9262-c484cca6ae1c button.colab-df-convert');\n",
              "      buttonEl.style.display =\n",
              "        google.colab.kernel.accessAllowed ? 'block' : 'none';\n",
              "\n",
              "      async function convertToInteractive(key) {\n",
              "        const element = document.querySelector('#df-b022963b-f385-4fed-9262-c484cca6ae1c');\n",
              "        const dataTable =\n",
              "          await google.colab.kernel.invokeFunction('convertToInteractive',\n",
              "                                                    [key], {});\n",
              "        if (!dataTable) return;\n",
              "\n",
              "        const docLinkHtml = 'Like what you see? Visit the ' +\n",
              "          '<a target=\"_blank\" href=https://colab.research.google.com/notebooks/data_table.ipynb>data table notebook</a>'\n",
              "          + ' to learn more about interactive tables.';\n",
              "        element.innerHTML = '';\n",
              "        dataTable['output_type'] = 'display_data';\n",
              "        await google.colab.output.renderOutput(dataTable, element);\n",
              "        const docLink = document.createElement('div');\n",
              "        docLink.innerHTML = docLinkHtml;\n",
              "        element.appendChild(docLink);\n",
              "      }\n",
              "    </script>\n",
              "  </div>\n",
              "\n",
              "\n",
              "<div id=\"df-4cc8fa06-f55d-44b5-bf0a-2d0aecc3c29c\">\n",
              "  <button class=\"colab-df-quickchart\" onclick=\"quickchart('df-4cc8fa06-f55d-44b5-bf0a-2d0aecc3c29c')\"\n",
              "            title=\"Suggest charts.\"\n",
              "            style=\"display:none;\">\n",
              "\n",
              "<svg xmlns=\"http://www.w3.org/2000/svg\" height=\"24px\"viewBox=\"0 0 24 24\"\n",
              "     width=\"24px\">\n",
              "    <g>\n",
              "        <path d=\"M19 3H5c-1.1 0-2 .9-2 2v14c0 1.1.9 2 2 2h14c1.1 0 2-.9 2-2V5c0-1.1-.9-2-2-2zM9 17H7v-7h2v7zm4 0h-2V7h2v10zm4 0h-2v-4h2v4z\"/>\n",
              "    </g>\n",
              "</svg>\n",
              "  </button>\n",
              "\n",
              "<style>\n",
              "  .colab-df-quickchart {\n",
              "      --bg-color: #E8F0FE;\n",
              "      --fill-color: #1967D2;\n",
              "      --hover-bg-color: #E2EBFA;\n",
              "      --hover-fill-color: #174EA6;\n",
              "      --disabled-fill-color: #AAA;\n",
              "      --disabled-bg-color: #DDD;\n",
              "  }\n",
              "\n",
              "  [theme=dark] .colab-df-quickchart {\n",
              "      --bg-color: #3B4455;\n",
              "      --fill-color: #D2E3FC;\n",
              "      --hover-bg-color: #434B5C;\n",
              "      --hover-fill-color: #FFFFFF;\n",
              "      --disabled-bg-color: #3B4455;\n",
              "      --disabled-fill-color: #666;\n",
              "  }\n",
              "\n",
              "  .colab-df-quickchart {\n",
              "    background-color: var(--bg-color);\n",
              "    border: none;\n",
              "    border-radius: 50%;\n",
              "    cursor: pointer;\n",
              "    display: none;\n",
              "    fill: var(--fill-color);\n",
              "    height: 32px;\n",
              "    padding: 0;\n",
              "    width: 32px;\n",
              "  }\n",
              "\n",
              "  .colab-df-quickchart:hover {\n",
              "    background-color: var(--hover-bg-color);\n",
              "    box-shadow: 0 1px 2px rgba(60, 64, 67, 0.3), 0 1px 3px 1px rgba(60, 64, 67, 0.15);\n",
              "    fill: var(--button-hover-fill-color);\n",
              "  }\n",
              "\n",
              "  .colab-df-quickchart-complete:disabled,\n",
              "  .colab-df-quickchart-complete:disabled:hover {\n",
              "    background-color: var(--disabled-bg-color);\n",
              "    fill: var(--disabled-fill-color);\n",
              "    box-shadow: none;\n",
              "  }\n",
              "\n",
              "  .colab-df-spinner {\n",
              "    border: 2px solid var(--fill-color);\n",
              "    border-color: transparent;\n",
              "    border-bottom-color: var(--fill-color);\n",
              "    animation:\n",
              "      spin 1s steps(1) infinite;\n",
              "  }\n",
              "\n",
              "  @keyframes spin {\n",
              "    0% {\n",
              "      border-color: transparent;\n",
              "      border-bottom-color: var(--fill-color);\n",
              "      border-left-color: var(--fill-color);\n",
              "    }\n",
              "    20% {\n",
              "      border-color: transparent;\n",
              "      border-left-color: var(--fill-color);\n",
              "      border-top-color: var(--fill-color);\n",
              "    }\n",
              "    30% {\n",
              "      border-color: transparent;\n",
              "      border-left-color: var(--fill-color);\n",
              "      border-top-color: var(--fill-color);\n",
              "      border-right-color: var(--fill-color);\n",
              "    }\n",
              "    40% {\n",
              "      border-color: transparent;\n",
              "      border-right-color: var(--fill-color);\n",
              "      border-top-color: var(--fill-color);\n",
              "    }\n",
              "    60% {\n",
              "      border-color: transparent;\n",
              "      border-right-color: var(--fill-color);\n",
              "    }\n",
              "    80% {\n",
              "      border-color: transparent;\n",
              "      border-right-color: var(--fill-color);\n",
              "      border-bottom-color: var(--fill-color);\n",
              "    }\n",
              "    90% {\n",
              "      border-color: transparent;\n",
              "      border-bottom-color: var(--fill-color);\n",
              "    }\n",
              "  }\n",
              "</style>\n",
              "\n",
              "  <script>\n",
              "    async function quickchart(key) {\n",
              "      const quickchartButtonEl =\n",
              "        document.querySelector('#' + key + ' button');\n",
              "      quickchartButtonEl.disabled = true;  // To prevent multiple clicks.\n",
              "      quickchartButtonEl.classList.add('colab-df-spinner');\n",
              "      try {\n",
              "        const charts = await google.colab.kernel.invokeFunction(\n",
              "            'suggestCharts', [key], {});\n",
              "      } catch (error) {\n",
              "        console.error('Error during call to suggestCharts:', error);\n",
              "      }\n",
              "      quickchartButtonEl.classList.remove('colab-df-spinner');\n",
              "      quickchartButtonEl.classList.add('colab-df-quickchart-complete');\n",
              "    }\n",
              "    (() => {\n",
              "      let quickchartButtonEl =\n",
              "        document.querySelector('#df-4cc8fa06-f55d-44b5-bf0a-2d0aecc3c29c button');\n",
              "      quickchartButtonEl.style.display =\n",
              "        google.colab.kernel.accessAllowed ? 'block' : 'none';\n",
              "    })();\n",
              "  </script>\n",
              "</div>\n",
              "    </div>\n",
              "  </div>\n"
            ]
          },
          "metadata": {},
          "execution_count": 45
        }
      ]
    }
  ]
}